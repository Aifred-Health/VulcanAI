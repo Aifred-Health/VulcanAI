{
 "cells": [
  {
   "cell_type": "markdown",
   "metadata": {},
   "source": [
    "# Import Libraries"
   ]
  },
  {
   "cell_type": "code",
   "execution_count": null,
   "metadata": {},
   "outputs": [],
   "source": [
    "import torch\n",
    "import torch.nn as nn\n",
    "import torchvision.transforms as transforms\n",
    "import torchvision.datasets as dsets\n",
    "from torch.autograd import Variable\n",
    "import torch.nn.functional as F\n",
    "from fashion import fashion\n",
    "from datetime import datetime\n",
    "import time\n",
    "from tqdm import tqdm\n",
    "from torch.utils.data import DataLoader"
   ]
  },
  {
   "cell_type": "code",
   "execution_count": null,
   "metadata": {},
   "outputs": [],
   "source": []
  },
  {
   "cell_type": "markdown",
   "metadata": {},
   "source": [
    "# Data : Extraction & Pre-processing"
   ]
  },
  {
   "cell_type": "code",
   "execution_count": null,
   "metadata": {},
   "outputs": [],
   "source": [
    "normalize = transforms.Normalize(mean=[x/255.0 for x in [125.3, 123.0, 113.9]],\n",
    "                                     std=[x/255.0 for x in [63.0, 62.1, 66.7]])\n",
    "\n",
    "transform = transforms.Compose([transforms.ToTensor(),\n",
    "                                transforms.Normalize((0.1307,), (0.3081,))])\n",
    "\n",
    "train_dataset = fashion(root='data', \n",
    "                            train=True, \n",
    "                            transform=transform,\n",
    "                            download=True\n",
    "                           )\n",
    "\n",
    "test_dataset = fashion(root='data', \n",
    "                            train=False, \n",
    "                            transform=transform,\n",
    "                           )"
   ]
  },
  {
   "cell_type": "markdown",
   "metadata": {},
   "source": [
    "# Data Loading"
   ]
  },
  {
   "cell_type": "code",
   "execution_count": null,
   "metadata": {},
   "outputs": [],
   "source": [
    "batch_size = 100\n",
    "n_iters = 5500\n",
    "\n",
    "train_loader = DataLoader(dataset=train_dataset, \n",
    "                                           batch_size=batch_size,            \n",
    "                                           shuffle=True)\n",
    "\n",
    "test_loader = DataLoader(dataset=test_dataset, \n",
    "                                          batch_size=batch_size, \n",
    "                                          shuffle=False)"
   ]
  },
  {
   "cell_type": "markdown",
   "metadata": {},
   "source": [
    "# Network Definition"
   ]
  },
  {
   "cell_type": "code",
   "execution_count": null,
   "metadata": {},
   "outputs": [],
   "source": [
    "class CNNModel(nn.Module):\n",
    "    def __init__(self):\n",
    "        super(CNNModel, self).__init__()\n",
    "        \n",
    "        # Convolution 1\n",
    "        self.cnn1 = nn.Conv2d(in_channels=1, out_channels=16, kernel_size=5, stride=1, padding=0)\n",
    "        self.relu1 = nn.ReLU()\n",
    "        # Max pool 1\n",
    "        self.maxpool1 = nn.MaxPool2d(kernel_size=2)\n",
    "     \n",
    "        # Convolution 2\n",
    "        self.cnn2 = nn.Conv2d(in_channels=16, out_channels=32, kernel_size=5, stride=1, padding=0)\n",
    "        self.relu2 = nn.ReLU()\n",
    "        \n",
    "        # Max pool 2\n",
    "        self.maxpool2 = nn.MaxPool2d(kernel_size=2)\n",
    "        \n",
    "        self.dropout = nn.Dropout(p=0.5)\n",
    "\n",
    "        # Fully connected 1 (readout)\n",
    "        self.fc1 = nn.Linear(32*4*4, 10)\n",
    "    \n",
    "    def forward(self, x):\n",
    "        # Convolution 1\n",
    "        out = self.cnn1(x)\n",
    "        out = self.relu1(out)\n",
    "        \n",
    "        # Max pool 1\n",
    "        out = self.maxpool1(out)\n",
    "        \n",
    "        # Convolution 2 \n",
    "        out = self.cnn2(out)\n",
    "        out = self.relu2(out)\n",
    "        \n",
    "        # Max pool 2 \n",
    "        out = self.maxpool2(out)\n",
    "        \n",
    "        # Resize\n",
    "        # Original size: (100, 32, 7, 7)\n",
    "        # out.size(0): 100\n",
    "        # New out size: (100, 32*7*7)\n",
    "        out = out.view(out.size(0), -1)\n",
    "        out = self.dropout(out)\n",
    "        # Linear function (readout)\n",
    "        out = self.fc1(out)\n",
    "        \n",
    "        return out\n",
    "    \n",
    "    \n",
    "model = CNNModel()"
   ]
  },
  {
   "cell_type": "markdown",
   "metadata": {},
   "source": [
    "# Setting up trainer parameters"
   ]
  },
  {
   "cell_type": "code",
   "execution_count": null,
   "metadata": {},
   "outputs": [],
   "source": [
    "num_epochs = n_iters / (len(train_dataset) / batch_size)\n",
    "num_epochs = int(num_epochs)\n",
    "criterion = nn.CrossEntropyLoss()\n",
    "learning_rate = 0.001\n",
    "optimizer = torch.optim.Adam(model.parameters(), lr=learning_rate)"
   ]
  },
  {
   "cell_type": "markdown",
   "metadata": {},
   "source": [
    "# Train function"
   ]
  },
  {
   "cell_type": "code",
   "execution_count": null,
   "metadata": {},
   "outputs": [],
   "source": [
    "def train(network, epochs, train_loader, test_loader, criterion, optimizer,\n",
    "              change_rate=None, use_gpu=False):\n",
    "    print('\\nTraining in progress...Time now: {}\\n'.format(datetime.now().strftime('%Y-%m-%d %H:%M:%S')))\n",
    "    \n",
    "    try:\n",
    "\n",
    "        if use_gpu:\n",
    "            network = network.cuda()\n",
    "            criterion = criterion.cuda()\n",
    "\n",
    "        for epoch in range(epochs):\n",
    "            epoch_time = time.time()\n",
    "            print(\"--> Epoch: {}/{}\".format(\n",
    "                epoch,\n",
    "                epochs - 1\n",
    "            ))\n",
    "            for mode in ['train', 'val']:\n",
    "                if mode == 'train':\n",
    "                    network.train()  # Set model to training mode\n",
    "                    \n",
    "                    loader = tqdm(train_loader, total=len(train_loader))\n",
    "                    \n",
    "                    for batch_idx, (data, target) in enumerate(loader):\n",
    "\n",
    "                        data = Variable(data.float())\n",
    "                        target = Variable(target)\n",
    "\n",
    "                        if use_gpu:\n",
    "                            data = data.cuda()\n",
    "                            target = target.cuda()\n",
    "\n",
    "                        # Forward + Backward + Optimize\n",
    "                        optimizer.zero_grad()\n",
    "                        output = network(data)\n",
    "                        loss = nn.CrossEntropyLoss()(output, target)\n",
    "                        loss.backward()\n",
    "                        optimizer.step()\n",
    "                    print('\\tTrain set: Loss: {:.6f}'.format(loss.item()))\n",
    "\n",
    "                else:\n",
    "                    network.eval()  # Set model to evaluate mode\n",
    "                    test_loss = 0\n",
    "                    correct = 0\n",
    "                    with torch.no_grad():\n",
    "                        for data, target in test_loader:\n",
    "\n",
    "                            data = Variable(data.float())\n",
    "                            target = Variable(target)\n",
    "\n",
    "                            if torch.cuda.is_available():\n",
    "                                data = data.cuda()\n",
    "                                target = target.cuda()\n",
    "\n",
    "                            output = network(data)\n",
    "                            test_loss += nn.CrossEntropyLoss()(output, target)\n",
    "                            _, pred = torch.max(output.data, 1)\n",
    "                            #pred = output.max(1)[1] # get the index of the max log-probability\n",
    "                            correct += (pred == target).sum()\n",
    "\n",
    "                    test_loss /= len(test_loader.dataset)\n",
    "                    print('\\n\\tTest set: Average loss: {:.4f}, Accuracy: {}/{} ({:.0f}%)\\n'.format(\n",
    "                        test_loss, correct, len(test_loader.dataset),\n",
    "                        100. * correct / len(test_loader.dataset)))\n",
    "    except KeyboardInterrupt:\n",
    "        print(\"\\n\\n**********Training stopped prematurely.**********\\n\\n\")\n",
    "    finally:\n",
    "        print(datetime.now().strftime('%Y-%m-%d %H:%M:%S'))"
   ]
  },
  {
   "cell_type": "markdown",
   "metadata": {},
   "source": [
    "# Training.."
   ]
  },
  {
   "cell_type": "code",
   "execution_count": null,
   "metadata": {},
   "outputs": [],
   "source": [
    "train(model, num_epochs, train_loader, test_loader, criterion, optimizer,\n",
    "              change_rate=None, use_gpu=True)"
   ]
  },
  {
   "cell_type": "code",
   "execution_count": null,
   "metadata": {},
   "outputs": [],
   "source": []
  },
  {
   "cell_type": "code",
   "execution_count": null,
   "metadata": {},
   "outputs": [],
   "source": []
  }
 ],
 "metadata": {
  "kernelspec": {
   "display_name": "Python 3",
   "language": "python",
   "name": "python3"
  },
  "language_info": {
   "codemirror_mode": {
    "name": "ipython",
    "version": 3
   },
   "file_extension": ".py",
   "mimetype": "text/x-python",
   "name": "python",
   "nbconvert_exporter": "python",
   "pygments_lexer": "ipython3",
   "version": "3.6.3"
  }
 },
 "nbformat": 4,
 "nbformat_minor": 2
}
