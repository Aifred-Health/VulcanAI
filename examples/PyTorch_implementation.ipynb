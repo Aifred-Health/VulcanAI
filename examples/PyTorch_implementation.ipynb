{
 "cells": [
  {
   "cell_type": "code",
   "execution_count": 4,
   "metadata": {},
   "outputs": [],
   "source": [
    "%matplotlib inline\n",
    "import torch \n",
    "import torchvision\n",
    "import torch.nn as nn\n",
    "from torch.autograd import Variable\n",
    "import torch.nn.functional as F\n",
    "import numpy as np\n",
    "import torchvision.transforms as transforms\n",
    "import matplotlib.pyplot as plt"
   ]
  },
  {
   "cell_type": "code",
   "execution_count": null,
   "metadata": {},
   "outputs": [],
   "source": []
  },
  {
   "cell_type": "code",
   "execution_count": 5,
   "metadata": {},
   "outputs": [
    {
     "name": "stdout",
     "output_type": "stream",
     "text": [
      "data folder already exists\n",
      "Loading training images...\n",
      "Loading training labels...\n",
      "Loading testing images...\n",
      "Loading testing labels...\n"
     ]
    }
   ],
   "source": [
    "import mnist_loader\n",
    "(train_images, train_labels, test_images, test_labels) = mnist_loader.load_fashion_mnist()"
   ]
  },
  {
   "cell_type": "code",
   "execution_count": 6,
   "metadata": {},
   "outputs": [],
   "source": [
    "from utils import get_one_hot, DataSet\n",
    "train_labels = get_one_hot(train_labels)\n",
    "test_labels = get_one_hot(test_labels)"
   ]
  },
  {
   "cell_type": "code",
   "execution_count": 7,
   "metadata": {},
   "outputs": [
    {
     "name": "stdout",
     "output_type": "stream",
     "text": [
      "(60000, 1, 28, 28) (60000, 10) (10000, 1, 28, 28) (10000, 10)\n"
     ]
    }
   ],
   "source": [
    "train_images = train_images.reshape((-1, 1, 28, 28)).astype(np.float32)\n",
    "test_images = test_images.reshape((-1, 1, 28, 28)).astype(np.float32)\n",
    "train_labels = train_labels.astype(np.int64)\n",
    "test_labels = test_labels.astype(np.int64)\n",
    "print(train_images.shape, train_labels.shape, test_images.shape, test_labels.shape)"
   ]
  },
  {
   "cell_type": "code",
   "execution_count": null,
   "metadata": {},
   "outputs": [],
   "source": [
    "from torch.utils.data import Dataset, DataLoader\n",
    "\n",
    "train_dataset = DataSet(test_images, test_labels)\n",
    "test_dataset = DataSet(train_images, train_labels)\n",
    "    \n",
    "test_loader = DataLoader(train_dataset, num_workers=1, batch_size=10000)\n",
    "train_loader = DataLoader(test_dataset, shuffle=True, batch_size=1000)\n",
    "\n"
   ]
  },
  {
   "cell_type": "code",
   "execution_count": null,
   "metadata": {},
   "outputs": [],
   "source": [
    "labels_map = {0 : 'T-Shirt', 1 : 'Trouser', 2 : 'Pullover', 3 : 'Dress', 4 : 'Coat', 5 : 'Sandal', 6 : 'Shirt',\n",
    "              7 : 'Sneaker', 8 : 'Bag', 9 : 'Ankle Boot'};"
   ]
  },
  {
   "cell_type": "code",
   "execution_count": null,
   "metadata": {},
   "outputs": [],
   "source": [
    "#source: https://medium.com/ml2vec/intro-to-pytorch-with-image-classification-on-a-fashion-clothes-dataset-e589682df0c5\n",
    "fig = plt.figure(figsize=(8,8));\n",
    "columns = 4;\n",
    "rows = 5;\n",
    "\n",
    "for i in range(1, columns*rows +1):\n",
    "    img_xy = np.random.randint(len(train_dataset));\n",
    "    img = train_dataset[img_xy][0][0,:,:]\n",
    "    fig.add_subplot(rows, columns, i)\n",
    "    plt.title(labels_map[np.argmax(train_dataset[img_xy][1])])\n",
    "    plt.axis('off')\n",
    "    plt.imshow(img, cmap='gray')\n",
    "plt.show()"
   ]
  },
  {
   "cell_type": "code",
   "execution_count": 2,
   "metadata": {},
   "outputs": [
    {
     "ename": "NameError",
     "evalue": "name 'train_images' is not defined",
     "output_type": "error",
     "traceback": [
      "\u001b[1;31m---------------------------------------------------------------------------\u001b[0m",
      "\u001b[1;31mNameError\u001b[0m                                 Traceback (most recent call last)",
      "\u001b[1;32m<ipython-input-2-3508912be1d7>\u001b[0m in \u001b[0;36m<module>\u001b[1;34m()\u001b[0m\n\u001b[0;32m      8\u001b[0m dense_net = net.Network(\n\u001b[0;32m      9\u001b[0m     \u001b[0mname\u001b[0m\u001b[1;33m=\u001b[0m\u001b[1;34m'3_dense_test'\u001b[0m\u001b[1;33m,\u001b[0m\u001b[1;33m\u001b[0m\u001b[0m\n\u001b[1;32m---> 10\u001b[1;33m     \u001b[0mdimensions\u001b[0m\u001b[1;33m=\u001b[0m\u001b[1;33m[\u001b[0m\u001b[1;32mNone\u001b[0m\u001b[1;33m]\u001b[0m \u001b[1;33m+\u001b[0m \u001b[0mlist\u001b[0m\u001b[1;33m(\u001b[0m\u001b[0mtrain_images\u001b[0m\u001b[1;33m.\u001b[0m\u001b[0mshape\u001b[0m\u001b[1;33m[\u001b[0m\u001b[1;36m1\u001b[0m\u001b[1;33m:\u001b[0m\u001b[1;33m]\u001b[0m\u001b[1;33m)\u001b[0m\u001b[1;33m,\u001b[0m\u001b[1;33m\u001b[0m\u001b[0m\n\u001b[0m\u001b[0;32m     11\u001b[0m     \u001b[0minput_var\u001b[0m\u001b[1;33m=\u001b[0m\u001b[0minput_var\u001b[0m\u001b[1;33m,\u001b[0m\u001b[1;33m\u001b[0m\u001b[0m\n\u001b[0;32m     12\u001b[0m     \u001b[0my\u001b[0m\u001b[1;33m=\u001b[0m\u001b[0my\u001b[0m\u001b[1;33m,\u001b[0m\u001b[1;33m\u001b[0m\u001b[0m\n",
      "\u001b[1;31mNameError\u001b[0m: name 'train_images' is not defined"
     ]
    }
   ],
   "source": [
    "network_dense_config = {\n",
    "    'mode': 'dense',\n",
    "    'units': [512],\n",
    "    'dropouts': [0.2],\n",
    "}\n",
    "\n",
    "dense_net = net.Network(\n",
    "    name='3_dense_test',\n",
    "    dimensions=[None] + list(train_images.shape[1:]),\n",
    "    input_var=input_var,\n",
    "    y=y,\n",
    "    config=network_dense_config,\n",
    "    input_network=None,\n",
    "    num_classes=10,\n",
    "    activation='rectify',\n",
    "    pred_activation='softmax',\n",
    "    optimizer='adam')\n"
   ]
  },
  {
   "cell_type": "code",
   "execution_count": 3,
   "metadata": {},
   "outputs": [
    {
     "ename": "NameError",
     "evalue": "name 'train_images' is not defined",
     "output_type": "error",
     "traceback": [
      "\u001b[1;31m---------------------------------------------------------------------------\u001b[0m",
      "\u001b[1;31mNameError\u001b[0m                                 Traceback (most recent call last)",
      "\u001b[1;32m<ipython-input-3-bc7969d039d7>\u001b[0m in \u001b[0;36m<module>\u001b[1;34m()\u001b[0m\n\u001b[1;32m----> 1\u001b[1;33m \u001b[0mtrain_images\u001b[0m\u001b[1;33m.\u001b[0m\u001b[0mshape\u001b[0m\u001b[1;33m\u001b[0m\u001b[0m\n\u001b[0m",
      "\u001b[1;31mNameError\u001b[0m: name 'train_images' is not defined"
     ]
    }
   ],
   "source": [
    "train_images.shape"
   ]
  },
  {
   "cell_type": "code",
   "execution_count": null,
   "metadata": {},
   "outputs": [],
   "source": [
    "network_conv_config = {\n",
    "    'mode': 'conv',\n",
    "    'filters': [16, 32],\n",
    "    'filter_size': [[5, 5], [5, 5]],\n",
    "    'stride': [[1, 1], [1, 1]],\n",
    "    'pool': {\n",
    "        'mode': 'average_exc_pad',\n",
    "        'stride': [[2, 2], [2, 2]]\n",
    "    }\n",
    "}\n",
    "network_dense_config = {\n",
    "    'mode': 'dense',\n",
    "    'units': [512],\n",
    "    'dropouts': [0.3],\n",
    "}"
   ]
  },
  {
   "cell_type": "code",
   "execution_count": null,
   "metadata": {},
   "outputs": [],
   "source": [
    "import net"
   ]
  },
  {
   "cell_type": "code",
   "execution_count": null,
   "metadata": {},
   "outputs": [],
   "source": []
  },
  {
   "cell_type": "code",
   "execution_count": null,
   "metadata": {},
   "outputs": [],
   "source": [
    "#input_var = Variable(train_images.shape, requires_grad=True)\n",
    "#y = Variable(train_labels.shape, requires_grad=True)\n",
    "conv_net= net.Network(\n",
    "    name='conv_test',\n",
    "    dimensions= train_images.shape,\n",
    "    input_var=None,\n",
    "    y=None,\n",
    "    config=network_conv_config,\n",
    "    input_network=None,\n",
    "    num_classes=None)"
   ]
  },
  {
   "cell_type": "code",
   "execution_count": null,
   "metadata": {},
   "outputs": [],
   "source": [
    "dense_net = net.Network(\n",
    "    name='1_dense',\n",
    "    dimensions=(None, int(train_images.shape[1])),\n",
    "    input_var=0,\n",
    "    y=0,\n",
    "    config=network_dense_config,\n",
    "    input_network={'network': conv_net, 'layer': 4, 'get_params': True},\n",
    "    num_classes=10,\n",
    "    activation='rectify',\n",
    "    pred_activation='softmax'\n",
    ")"
   ]
  },
  {
   "cell_type": "code",
   "execution_count": null,
   "metadata": {},
   "outputs": [],
   "source": [
    "dense_net.network"
   ]
  },
  {
   "cell_type": "code",
   "execution_count": null,
   "metadata": {
    "scrolled": true
   },
   "outputs": [],
   "source": [
    "dense_net.train(\n",
    "    epochs=200,\n",
    "    train_x=train_images[:50000],\n",
    "    train_y=train_labels[:50000],\n",
    "    val_x=train_images[50000:60000],\n",
    "    val_y=train_labels[50000:60000],\n",
    "    batch_ratio=0.05,\n",
    "    plot=False,\n",
    "    use_gpu=True\n",
    ")"
   ]
  },
  {
   "cell_type": "code",
   "execution_count": null,
   "metadata": {},
   "outputs": [],
   "source": [
    "for param in dense_net.network.parameters():\n",
    "    print(param)"
   ]
  },
  {
   "cell_type": "code",
   "execution_count": null,
   "metadata": {},
   "outputs": [],
   "source": [
    "import collections"
   ]
  },
  {
   "cell_type": "code",
   "execution_count": null,
   "metadata": {},
   "outputs": [],
   "source": [
    "\n",
    "mods = list(dense_net.network.modules())\n",
    "for i in range(1,len(mods)):\n",
    "    m = mods[i]\n",
    "    p = list(m.parameters())\n",
    "    sizes = []\n",
    "    print(m)\n",
    "    for j in range(len(p)):\n",
    "        size = np.array(p[j].size())\n",
    "        sizes.append(size)\n",
    "        print(size)\n",
    "\n",
    "total_bits = 0\n",
    "for i in range(len(sizes)):\n",
    "    s = sizes[i]\n",
    "    bits = np.prod(np.array(s))*bits\n",
    "    print(bits)\n",
    "    total_bits += bits"
   ]
  },
  {
   "cell_type": "code",
   "execution_count": null,
   "metadata": {},
   "outputs": [],
   "source": [
    "for l_name, l in dense_net.network.named_children():\n",
    "    if isinstance(l, torch.nn.Sequential):\n",
    "        for subl_name, subl in l.named_children():\n",
    "            for param in subl.parameters():\n",
    "                print(l_name, subl_name, param.size(0))\n",
    "    else:\n",
    "        for param in l.parameters():\n",
    "            print(l_name, param.size(0))\n"
   ]
  },
  {
   "cell_type": "code",
   "execution_count": null,
   "metadata": {},
   "outputs": [],
   "source": []
  },
  {
   "cell_type": "code",
   "execution_count": null,
   "metadata": {},
   "outputs": [],
   "source": [
    "torch.cuda.is_available()"
   ]
  },
  {
   "cell_type": "code",
   "execution_count": null,
   "metadata": {},
   "outputs": [],
   "source": [
    "model = dense_net.network\n",
    "\n",
    "optimizer = torch.optim.Adam(dense_net.network.parameters(), lr=0.01);\n",
    "\n",
    "criterion = nn.CrossEntropyLoss()\n",
    "\n",
    "if torch.cuda.is_available():\n",
    "    model = model.cuda()\n",
    "    criterion = criterion.cuda()"
   ]
  },
  {
   "cell_type": "code",
   "execution_count": null,
   "metadata": {},
   "outputs": [],
   "source": [
    "import os\n",
    "os.getpid()"
   ]
  },
  {
   "cell_type": "code",
   "execution_count": null,
   "metadata": {
    "scrolled": true
   },
   "outputs": [],
   "source": [
    "losses = []\n",
    "epochs = 100\n",
    "optimizer = torch.optim.Adam(dense_net.network.parameters(), lr=0.01);\n",
    "for epoch in range(epochs):\n",
    "    for i, (images, labels) in enumerate(train_loader):\n",
    "        images = Variable(images.float())\n",
    "        labels = Variable(labels)\n",
    "        if torch.cuda.is_available():\n",
    "            images = images.cuda()\n",
    "            labels = labels.cuda()\n",
    "        \n",
    "        # Forward + Backward + Optimize\n",
    "        optimizer.zero_grad()\n",
    "        outputs = model(images)\n",
    "        loss_fn = nn.CrossEntropyLoss()\n",
    "        loss = criterion(outputs, torch.max(labels, 1)[1])\n",
    "        loss.backward()\n",
    "        optimizer.step()\n",
    "        \n",
    "        losses.append(loss.data[0]);\n",
    "       \n",
    "        if (i+1) % 100 == 1:\n",
    "            print ('Epoch : %d/%d, Iter : %d/%d,  Loss: %.4f' \n",
    "                   %(epoch+1, epochs, i+1, len(train_dataset)//100, loss.data[0]))"
   ]
  },
  {
   "cell_type": "code",
   "execution_count": null,
   "metadata": {},
   "outputs": [],
   "source": [
    "isinstance(model, nn.Module)"
   ]
  },
  {
   "cell_type": "code",
   "execution_count": null,
   "metadata": {},
   "outputs": [],
   "source": [
    "import tqdm"
   ]
  },
  {
   "cell_type": "code",
   "execution_count": null,
   "metadata": {
    "scrolled": true
   },
   "outputs": [],
   "source": [
    "dense_net.network._optimizer.state_dict()"
   ]
  },
  {
   "cell_type": "code",
   "execution_count": null,
   "metadata": {},
   "outputs": [],
   "source": []
  },
  {
   "cell_type": "code",
   "execution_count": null,
   "metadata": {},
   "outputs": [],
   "source": [
    "def train(network, epochs, train_loader, test_loader,\n",
    "              plot=True, change_rate=None, use_gpu=False):\n",
    "    \n",
    "    print('\\nTraining {} in progress...\\n'.format(self.name))\n",
    "    # Check if to use_gpu\n",
    "    self.use_gpu = use_gpu\n",
    "\n",
    "    \n",
    "\n",
    "    if train_x.shape[0] * batch_ratio < 1.0:\n",
    "        batch_ratio = 1.0 / train_x.shape[0]\n",
    "        print('Warning: Batch ratio too small. Changing to {:.5f}'.format(batch_ratio))\n",
    "    try:\n",
    "        if plot:\n",
    "            fig_number = plt.gcf().number + 1 if plt.fignum_exists(1) else 1\n",
    "\n",
    "        self.optimizer = torch.optim.SGD(self.network.parameters(),\n",
    "                                            lr=0.01, momentum=0.5)\n",
    "        self.criterion = nn.CrossEntropyLoss()\n",
    "\n",
    "        if self.use_gpu:\n",
    "            self.network = self.network.cuda()\n",
    "            self.criterion = self.criterion.cuda()\n",
    "\n",
    "        for epoch in range(epochs):\n",
    "            epoch_time = time.time()\n",
    "            print(\"--> Epoch: {}/{}\".format(\n",
    "                epoch,\n",
    "                epochs - 1\n",
    "            ))\n",
    "            for mode in ['train', 'val']:\n",
    "                if mode == 'train':\n",
    "                    self.network.train()  # Set model to training mode\n",
    "                    losses = []\n",
    "                    loader = tqdm(train_loader, total=len(train_loader))\n",
    "                    for batch_idx, (data, target) in enumerate(loader):\n",
    "\n",
    "                        data = Variable(data.float())\n",
    "                        target = Variable(target)\n",
    "\n",
    "                        if self.use_gpu:\n",
    "                            data = data.cuda()\n",
    "                            target = target.cuda()\n",
    "\n",
    "                        # Forward + Backward + Optimize\n",
    "                        self.optimizer.zero_grad()\n",
    "                        output = self.network(data)\n",
    "                        loss = nn.CrossEntropyLoss()(output, torch.max(target, 1)[1])\n",
    "                        loss.backward()\n",
    "                        self.optimizer.step()\n",
    "                        losses.append(float(loss.item()))\n",
    "                    print('\\tLoss: {:.6f} {}'.format(loss.item(), loss.loss_tot.data[0]))\n",
    "\n",
    "                else:\n",
    "                    self.network.eval()  # Set model to evaluate mode\n",
    "                    test_loss = 0\n",
    "                    correct = 0\n",
    "                    with torch.no_grad():\n",
    "                        for data, target in test_loader:\n",
    "\n",
    "                            data = Variable(data.float())\n",
    "                            target = Variable(target)\n",
    "\n",
    "                            if torch.cuda.is_available():\n",
    "                                data = data.cuda()\n",
    "                                target = target.cuda()\n",
    "\n",
    "                            output = self.network(data)\n",
    "                            test_loss += nn.CrossEntropyLoss()(output, torch.max(target, 1)[1])\n",
    "                            pred = output.max(1)[1] # get the index of the max log-probability\n",
    "                            correct += pred.eq(torch.max(target, 1)[1]).sum().item()\n",
    "\n",
    "                    test_loss /= len(test_loader.dataset)\n",
    "                    print('\\nTest set: Average loss: {:.4f}, Accuracy: {}/{} ({:.0f}%)\\n'.format(\n",
    "                        test_loss, correct, len(test_loader.dataset),\n",
    "                        100. * correct / len(test_loader.dataset)))\n",
    "    except KeyboardInterrupt:\n",
    "        print(\"\\n\\n**********Training stopped prematurely.**********\\n\\n\")\n",
    "    finally:\n",
    "        self.timestamp = get_timestamp()"
   ]
  }
 ],
 "metadata": {
  "kernelspec": {
   "display_name": "Python 3",
   "language": "python",
   "name": "python3"
  },
  "language_info": {
   "codemirror_mode": {
    "name": "ipython",
    "version": 3
   },
   "file_extension": ".py",
   "mimetype": "text/x-python",
   "name": "python",
   "nbconvert_exporter": "python",
   "pygments_lexer": "ipython3",
   "version": "3.6.3"
  }
 },
 "nbformat": 4,
 "nbformat_minor": 2
}
